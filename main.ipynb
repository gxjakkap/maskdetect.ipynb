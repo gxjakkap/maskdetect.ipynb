{
 "cells": [
  {
   "cell_type": "markdown",
   "metadata": {},
   "source": [
    "# อะ มา เริ่ม\n",
    "โจทย์:\n",
    "1. แสดงผลรูปภาพที่ทาย\n",
    "2. แปลผลที่โมเดลทาย\n",
    "3. ส่งเสียงเตือน ตามภาพที่เห็น\n",
    "4. วนลูปแสดงผล 5 ภาพ\n",
    "\n",
    "ฉะนั้น สิ่งที่ต้องเตรียม\n",
    "- รูป 5 รูป (ในคลาสรูมมี หรือกดเลขด้านหลัง)\n",
    "- model (ในคลาสรูมมีเหมือนกัน หรือกดตรงนี้)\n",
    "\n",
    "อัพขึ้นใน colab แล้วค่อยรัน"
   ]
  },
  {
   "cell_type": "code",
   "execution_count": null,
   "metadata": {},
   "outputs": [],
   "source": [
    "#for google colab\n",
    "!pip install gtts"
   ]
  },
  {
   "cell_type": "code",
   "execution_count": 4,
   "metadata": {},
   "outputs": [],
   "source": [
    "from gtts import gTTS\n",
    "def playsound(index):\n",
    "  language = 'th'\n",
    "  warning = [\"ใส่แมสแล้ว เก่งจางง\", \"เปิดแมสขอสาปให้ติดโควิดนะ\", \"ใส่ไว้ทำไมเอ่ยที่คางอะ\"]\n",
    "  if warning[index]: \n",
    "    soundobj = gTTS(warning[index], lang=language)\n",
    "    soundobj.save('sound.mp3')"
   ]
  },
  {
   "cell_type": "code",
   "execution_count": null,
   "metadata": {},
   "outputs": [],
   "source": [
    "from keras.models import load_model\n",
    "from PIL import Image, ImageOps\n",
    "import numpy as np\n",
    "from IPython.display import Audio, display\n",
    "from IPython.display import Image as DisplayImage    \n",
    "\n",
    "model = load_model('keras_model.h5')\n",
    "data = np.ndarray(shape=(1, 224, 224, 3), dtype=np.float32)\n",
    "\n",
    "i = 0\n",
    "for i in range(5):\n",
    "    imagename = f'{i}.jpg'\n",
    "    image = Image.open(imagename)\n",
    "    size = (224, 224)\n",
    "    image = ImageOps.fit(image, size, Image.ANTIALIAS)\n",
    "    image_array = np.asarray(image)\n",
    "    normalized_image_array = (image_array.astype(np.float32) / 127.0) - 1\n",
    "    data[0] = normalized_image_array\n",
    "\n",
    "    prediction = model.predict(data)\n",
    "    translation = [\"ใส่แมส\", \"ถอดแมส\", \"เปิดแมส\"]\n",
    "    print(translation[np.argmax(prediction)])\n",
    "    playsound(np.argmax(prediction))\n",
    "    display(DisplayImage(imagename), Audio('sound.mp3', autoplay=True))"
   ]
  }
 ],
 "metadata": {
  "kernelspec": {
   "display_name": "Python 3.10.1 64-bit",
   "language": "python",
   "name": "python3"
  },
  "language_info": {
   "codemirror_mode": {
    "name": "ipython",
    "version": 3
   },
   "file_extension": ".py",
   "mimetype": "text/x-python",
   "name": "python",
   "nbconvert_exporter": "python",
   "pygments_lexer": "ipython3",
   "version": "3.10.1"
  },
  "orig_nbformat": 4,
  "vscode": {
   "interpreter": {
    "hash": "904495e45481824529025d07a72333986ee27c34e01ef5631dcddce1e63f506d"
   }
  }
 },
 "nbformat": 4,
 "nbformat_minor": 2
}
